{
 "cells": [
  {
   "cell_type": "code",
   "execution_count": 1,
   "metadata": {},
   "outputs": [],
   "source": [
    "from PIL import Image\n",
    "import matplotlib.pyplot as plt \n",
    " \n",
    "# 打开图片文件\n",
    "image = Image.open('QR_code/1.png')"
   ]
  },
  {
   "cell_type": "code",
   "execution_count": 2,
   "metadata": {},
   "outputs": [
    {
     "name": "stderr",
     "output_type": "stream",
     "text": [
      "/ssd-sata1/hqq/anaconda3/envs/stable_signature/lib/python3.8/site-packages/tqdm/auto.py:21: TqdmWarning: IProgress not found. Please update jupyter and ipywidgets. See https://ipywidgets.readthedocs.io/en/stable/user_install.html\n",
      "  from .autonotebook import tqdm as notebook_tqdm\n"
     ]
    }
   ],
   "source": [
    "import torch\n",
    "from torchvision import transforms\n",
    "from PIL import Image\n",
    " \n",
    "import torch.nn as nn\n",
    "import torch.nn.functional as F\n",
    "\n",
    "# 定义转换\n",
    "transform = transforms.ToTensor()\n",
    " \n",
    "# 转换图像为张量\n",
    "tensor_image = transform(image)"
   ]
  },
  {
   "cell_type": "code",
   "execution_count": 21,
   "metadata": {},
   "outputs": [
    {
     "name": "stdout",
     "output_type": "stream",
     "text": [
      "torch.Size([1, 128, 128])\n",
      "torch.Size([128])\n"
     ]
    }
   ],
   "source": [
    "print(tensor_image.shape)\n",
    "print(tensor_image[0][0])"
   ]
  },
  {
   "cell_type": "code",
   "execution_count": 14,
   "metadata": {},
   "outputs": [],
   "source": [
    "def image_loss(imgs, imgs_ori, loss_type='l1'):\n",
    "    \"\"\"\n",
    "    Compute the image loss\n",
    "    Args:\n",
    "        imgs (BxCxHxW): the reconstructed images\n",
    "        imgs_ori (BxCxHxW): the original images\n",
    "        loss_type: the type of loss\n",
    "    \"\"\"\n",
    "    if loss_type == 'mse':\n",
    "        return F.mse_loss(imgs, imgs_ori, reduction='mean')\n",
    "    if loss_type == 'l1':\n",
    "        return F.l1_loss(imgs, imgs_ori, reduction='mean')\n",
    "    else:\n",
    "        raise ValueError('Unknown loss type')\n",
    "\n"
   ]
  },
  {
   "cell_type": "code",
   "execution_count": 15,
   "metadata": {},
   "outputs": [
    {
     "name": "stdout",
     "output_type": "stream",
     "text": [
      "tensor(0.6832)\n",
      "tensor(0.3168)\n"
     ]
    }
   ],
   "source": [
    "tensor_image0= torch.zeros_like(tensor_image)\n",
    "tensor_image1= torch.ones_like(tensor_image)\n",
    "\n",
    "print(  image_loss( tensor_image,tensor_image0))\n",
    "print ( image_loss( tensor_image,tensor_image1))"
   ]
  },
  {
   "cell_type": "code",
   "execution_count": 53,
   "metadata": {},
   "outputs": [
    {
     "name": "stdout",
     "output_type": "stream",
     "text": [
      "<class 'torch.Tensor'>\n"
     ]
    }
   ],
   "source": [
    "import qrcode\n",
    "wm= qrcode.make('You are a dog.', box_size=1,version=1,error_correction=qrcode.constants.ERROR_CORRECT_H,border=0)\n",
    "wm =wm.resize([128,128])\n",
    "transform = transforms.ToTensor()\n",
    "watermark = transform(wm)\n",
    "\n",
    "print(type(watermark))\n",
    "from torchvision.utils import save_image\n",
    "\n",
    "save_image(watermark,'QR_code/4.png' )"
   ]
  },
  {
   "cell_type": "code",
   "execution_count": 38,
   "metadata": {},
   "outputs": [
    {
     "name": "stdout",
     "output_type": "stream",
     "text": [
      "torch.Size([1, 128, 128])\n",
      "零元素的位置： tensor([[  0,   0,   0,  ...,   0,   0,   0],\n",
      "        [ 16,  16,  16,  ..., 111, 111, 111],\n",
      "        [ 16,  17,  18,  ..., 109, 110, 111]])\n",
      "tensor(16)\n",
      "tensor(111)\n",
      "tensor(16)\n",
      "tensor(111)\n"
     ]
    }
   ],
   "source": [
    "print(watermark.shape)\n",
    "import numpy as np\n",
    "zero_indices = np.argwhere(watermark == 0.0)\n",
    "\n",
    "print(\"零元素的位置：\", zero_indices)\n",
    "\n",
    "print( min(zero_indices[1]))\n",
    "print( max(zero_indices[1]))\n",
    "\n",
    "print( min(zero_indices[2]))\n",
    "print( max(zero_indices[2]))"
   ]
  },
  {
   "cell_type": "code",
   "execution_count": 35,
   "metadata": {},
   "outputs": [
    {
     "name": "stdout",
     "output_type": "stream",
     "text": [
      "tensor([ 16,  16,  16,  ..., 111, 111, 111])\n"
     ]
    }
   ],
   "source": [
    "print( zero_indices[1]  )\n"
   ]
  },
  {
   "cell_type": "code",
   "execution_count": 20,
   "metadata": {},
   "outputs": [
    {
     "name": "stdout",
     "output_type": "stream",
     "text": [
      "tensor(0.3381)\n"
     ]
    }
   ],
   "source": [
    "print(  image_loss( tensor_image,watermark,'mse'))"
   ]
  },
  {
   "cell_type": "code",
   "execution_count": 28,
   "metadata": {},
   "outputs": [
    {
     "name": "stdout",
     "output_type": "stream",
     "text": [
      "tensor(0.1691)\n",
      "tensor(0.3416)\n",
      "tensor(0.1584)\n"
     ]
    }
   ],
   "source": [
    "print(F.huber_loss( tensor_image, watermark))\n",
    "\n",
    "print( F.huber_loss( tensor_image,tensor_image0))\n",
    "print ( F.huber_loss( tensor_image,tensor_image1))"
   ]
  },
  {
   "cell_type": "code",
   "execution_count": null,
   "metadata": {},
   "outputs": [],
   "source": []
  }
 ],
 "metadata": {
  "kernelspec": {
   "display_name": "stable_signature",
   "language": "python",
   "name": "python3"
  },
  "language_info": {
   "codemirror_mode": {
    "name": "ipython",
    "version": 3
   },
   "file_extension": ".py",
   "mimetype": "text/x-python",
   "name": "python",
   "nbconvert_exporter": "python",
   "pygments_lexer": "ipython3",
   "version": "3.8.19"
  }
 },
 "nbformat": 4,
 "nbformat_minor": 2
}
