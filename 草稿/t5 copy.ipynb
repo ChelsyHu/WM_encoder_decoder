{
 "cells": [
  {
   "cell_type": "code",
   "execution_count": 5,
   "metadata": {},
   "outputs": [],
   "source": [
    "from PIL import Image\n",
    "import matplotlib.pyplot as plt \n",
    " \n",
    "# 打开图片文件\n",
    "image = Image.open('Chelsy_Hu1.png')"
   ]
  },
  {
   "cell_type": "code",
   "execution_count": 6,
   "metadata": {},
   "outputs": [],
   "source": [
    "import torch\n",
    "from torchvision import transforms\n",
    "from PIL import Image\n",
    " \n",
    "import torch.nn as nn\n",
    "import torch.nn.functional as F\n",
    "\n",
    "# 定义转换\n",
    "transform = transforms.ToTensor()\n",
    " \n",
    "# 转换图像为张量\n",
    "tensor_image = transform(image)"
   ]
  },
  {
   "cell_type": "code",
   "execution_count": 8,
   "metadata": {},
   "outputs": [
    {
     "name": "stdout",
     "output_type": "stream",
     "text": [
      "torch.Size([1, 256, 256])\n"
     ]
    }
   ],
   "source": [
    "print(tensor_image.shape)"
   ]
  },
  {
   "cell_type": "code",
   "execution_count": 9,
   "metadata": {},
   "outputs": [],
   "source": [
    "def image_loss(imgs, imgs_ori, loss_type='l1'):\n",
    "    \"\"\"\n",
    "    Compute the image loss\n",
    "    Args:\n",
    "        imgs (BxCxHxW): the reconstructed images\n",
    "        imgs_ori (BxCxHxW): the original images\n",
    "        loss_type: the type of loss\n",
    "    \"\"\"\n",
    "    if loss_type == 'mse':\n",
    "        return F.mse_loss(imgs, imgs_ori, reduction='mean')\n",
    "    if loss_type == 'l1':\n",
    "        return F.l1_loss(imgs, imgs_ori, reduction='mean')\n",
    "    else:\n",
    "        raise ValueError('Unknown loss type')\n",
    "\n"
   ]
  },
  {
   "cell_type": "code",
   "execution_count": 10,
   "metadata": {},
   "outputs": [
    {
     "name": "stdout",
     "output_type": "stream",
     "text": [
      "tensor(0.1900)\n",
      "tensor(0.8100)\n"
     ]
    }
   ],
   "source": [
    "tensor_image0= torch.zeros_like(tensor_image)\n",
    "tensor_image1= torch.ones_like(tensor_image)\n",
    "\n",
    "print(  image_loss( tensor_image,tensor_image0))\n",
    "print ( image_loss( tensor_image,tensor_image1))"
   ]
  },
  {
   "cell_type": "code",
   "execution_count": 11,
   "metadata": {},
   "outputs": [
    {
     "name": "stdout",
     "output_type": "stream",
     "text": [
      "tensor(0.0909)\n",
      "tensor(0.4009)\n"
     ]
    }
   ],
   "source": [
    "print( F.huber_loss( tensor_image,tensor_image0))\n",
    "print ( F.huber_loss( tensor_image,tensor_image1))"
   ]
  }
 ],
 "metadata": {
  "kernelspec": {
   "display_name": "stable_signature",
   "language": "python",
   "name": "python3"
  },
  "language_info": {
   "codemirror_mode": {
    "name": "ipython",
    "version": 3
   },
   "file_extension": ".py",
   "mimetype": "text/x-python",
   "name": "python",
   "nbconvert_exporter": "python",
   "pygments_lexer": "ipython3",
   "version": "3.8.19"
  }
 },
 "nbformat": 4,
 "nbformat_minor": 2
}
