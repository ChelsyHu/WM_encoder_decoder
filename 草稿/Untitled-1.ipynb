{
 "cells": [
  {
   "cell_type": "code",
   "execution_count": 21,
   "metadata": {},
   "outputs": [
    {
     "name": "stdout",
     "output_type": "stream",
     "text": [
      "torch.Size([1, 1, 256, 256])\n"
     ]
    }
   ],
   "source": [
    "from PIL import Image\n",
    "import numpy as np \n",
    "from torchvision import transforms\n",
    "import torch \n",
    "\n",
    "# 打开图片文件\n",
    "image1 = Image.open('imgs/text_image/Chelsy_Hu1.png')\n",
    "# 定义转换\n",
    "transform = transforms.ToTensor()\n",
    "# 转换图像为张量\n",
    "tensor_image = transform(image1)\n",
    "watermark = tensor_image.unsqueeze(0)\n",
    "print(watermark.shape)\n",
    "count = 16\n",
    "\n",
    "for i in range(count):\n",
    "    if i == 0:\n",
    "        watermark_b=watermark \n",
    "    else:\n",
    "        watermark_b=np.vstack([watermark_b,watermark])\n",
    "        \n",
    "watermark_b=torch.from_numpy(watermark_b)\n"
   ]
  },
  {
   "cell_type": "code",
   "execution_count": 22,
   "metadata": {},
   "outputs": [
    {
     "name": "stdout",
     "output_type": "stream",
     "text": [
      "torch.Size([1, 1, 256, 256])\n",
      "<class 'torch.Tensor'>\n",
      "torch.Size([16, 1, 256, 256])\n",
      "<class 'torch.Tensor'>\n"
     ]
    }
   ],
   "source": [
    "print(watermark.shape)\n",
    "print(type(watermark))\n",
    "\n",
    "print(watermark_b.shape)\n",
    "print(type(watermark_b))"
   ]
  },
  {
   "cell_type": "code",
   "execution_count": 24,
   "metadata": {},
   "outputs": [
    {
     "name": "stdout",
     "output_type": "stream",
     "text": [
      "torch.Size([16, 1, 256, 256])\n",
      "<class 'torch.Tensor'>\n"
     ]
    }
   ],
   "source": [
    "print(watermark_b.shape)\n",
    "print(type(watermark_b))"
   ]
  }
 ],
 "metadata": {
  "kernelspec": {
   "display_name": "stable_signature",
   "language": "python",
   "name": "python3"
  },
  "language_info": {
   "codemirror_mode": {
    "name": "ipython",
    "version": 3
   },
   "file_extension": ".py",
   "mimetype": "text/x-python",
   "name": "python",
   "nbconvert_exporter": "python",
   "pygments_lexer": "ipython3",
   "version": "3.8.19"
  }
 },
 "nbformat": 4,
 "nbformat_minor": 2
}
