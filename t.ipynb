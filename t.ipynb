{
 "cells": [
  {
   "cell_type": "code",
   "execution_count": 4,
   "metadata": {},
   "outputs": [
    {
     "name": "stderr",
     "output_type": "stream",
     "text": [
      "Loading pipeline components...: 100%|██████████| 6/6 [00:00<00:00, 12.25it/s]\n"
     ]
    }
   ],
   "source": [
    "import os\n",
    "from diffusers import AutoPipelineForText2Image\n",
    "from diffusers import AutoPipelineForImage2Image\n",
    "from diffusers.utils import load_image, make_image_grid\n",
    "import torch\n",
    "from PIL  import Image \n",
    "\n",
    "import torchvision.transforms as transforms\n",
    "import numpy as np \n",
    "from torchvision.utils import save_image\n",
    "import utils_img\n",
    "\n",
    "import sys\n",
    "from io import StringIO\n",
    "from pytorch_lightning import seed_everything\n",
    "import warnings\n",
    "\n",
    "from diffusers import DPMSolverMultistepScheduler\n",
    "\n",
    "\n",
    "import os\n",
    "os.environ['CUDA_VISIBLE_DEVICES'] = '6'\n",
    "\n",
    "model= \"/hhd2/hqq/stable_signature/stable-diffusion-2-1-base\"\n",
    "pipeline_img2img = AutoPipelineForImage2Image.from_pretrained(\n",
    "            model, torch_dtype=torch.float16, variant=\"fp16\", use_safetensors=True\n",
    "    ).to(\"cuda:6\")\n",
    "\n",
    "def  img2img(imgs):\n",
    "    c, h,w = imgs.shape[1], imgs.shape[-2], imgs.shape[-1]\n",
    "    # #抑制输出， 重定向 stdout 到 devnull\n",
    "    # original_stdout = sys.stdout\n",
    "    # sys.stdout = open(os.devnull, 'w')\n",
    "    warnings.filterwarnings('ignore')\n",
    "    \n",
    "    # 以下代码引入SDXL模型\n",
    "    model= \"/hdd2/hqq/stable_signature/stable-diffusion-2-1-base\"\n",
    "    pipeline_img2img = AutoPipelineForImage2Image.from_pretrained(\n",
    "            model, torch_dtype=torch.float16, variant=\"fp16\", use_safetensors=True\n",
    "    ).to(\"cuda\")\n",
    "    seed_everything(seed=20)\n",
    "    pipeline_img2img.scheduler = DPMSolverMultistepScheduler.from_config(pipeline_img2img.scheduler.config)\n",
    "\n",
    "    #pipeline_img2img.eval()\n",
    "    #pipeline_text2image.model.config.image_size = imgs.shape[-1]\n",
    "    prompt = \"A photo\"\n",
    "    generator = torch.Generator(\"cuda\").manual_seed(0)\n",
    "\n",
    "\n",
    "    for i in range(imgs.shape[0]):\n",
    "        img=imgs[i]\n",
    "        img2 = pipeline_img2img(prompt, image=img, strength=0.8, guidance_scale=10.5,height=imgs.shape[-2],\n",
    "                                width=imgs.shape[-1],generator=generator, num_inference_steps=20).images[0]\n",
    "\n",
    "        to_tensor=transforms.ToTensor()\n",
    "        img2_tensor=utils_img.normalize_rgb(to_tensor(img2))  ## c h w , 且被归一到了-1到 1区间内   ###这一行之后没有了梯度。\n",
    "        img2_tensor=img2_tensor.unsqueeze(0)\n",
    "        if i==0:\n",
    "            output= img2_tensor\n",
    "        else:\n",
    "            output= torch.cat((output,img2_tensor),dim=0)\n",
    "    \n",
    "    #output=output.requires_grad_(True)\n",
    "\n",
    "    return  output \n"
   ]
  },
  {
   "cell_type": "code",
   "execution_count": 5,
   "metadata": {},
   "outputs": [],
   "source": [
    "from diffusers.utils import load_image, make_image_grid\n",
    "\n",
    "image1=load_image(\"datasets/train_dir/000000022396.jpg\")\n",
    "\n",
    "# # 使用Pillow裁剪图像\n",
    "# left, upper, right, lower = 0, 0, 256, 256  # 裁剪区域的坐标\n",
    "# image1 = image1.crop((left, upper, right, lower))\n",
    "\n",
    "train_transform = transforms.Compose([\n",
    "        transforms.RandomResizedCrop(512),\n",
    "        transforms.ColorJitter(brightness=0.2, contrast=0.2, saturation=0.2, hue=0.1),\n",
    "        transforms.RandomHorizontalFlip(),\n",
    "        transforms.ToTensor(),\n",
    "        #transforms.Normalize([0.5], [0.5]),\n",
    "        #utils_img.normalize_rgb,\n",
    "    ])\n",
    "\n",
    "tensor1= train_transform(image1)"
   ]
  },
  {
   "cell_type": "code",
   "execution_count": 6,
   "metadata": {},
   "outputs": [
    {
     "name": "stderr",
     "output_type": "stream",
     "text": [
      "Loading pipeline components...: 100%|██████████| 6/6 [00:00<00:00, 13.47it/s]\n",
      "Seed set to 20\n",
      "100%|██████████| 16/16 [00:02<00:00,  7.06it/s]\n"
     ]
    }
   ],
   "source": [
    "save_image(tensor1, 't1.png') \n",
    "\n",
    "tensor1=tensor1.unsqueeze(0)\n",
    "\n",
    "output= img2img(tensor1)\n",
    "output=output.squeeze(0)\n",
    "save_image(output, 'tt.png') "
   ]
  },
  {
   "cell_type": "code",
   "execution_count": 62,
   "metadata": {},
   "outputs": [
    {
     "name": "stderr",
     "output_type": "stream",
     "text": [
      "Loading pipeline components...: 100%|██████████| 6/6 [00:00<00:00, 14.60it/s]\n"
     ]
    }
   ],
   "source": [
    "model= \"/ssd-sata1/hqq/stable_signature/stable-diffusion-2-1-base\"\n",
    "pipeline_img2img = AutoPipelineForImage2Image.from_pretrained(\n",
    "            model, torch_dtype=torch.float16, variant=\"fp16\", use_safetensors=True\n",
    "    ).to(\"cuda\")\n",
    "    #pipeline_text2image.model.config.image_size = imgs.shape[-1]\n",
    "prompt = \"no bird\""
   ]
  }
 ],
 "metadata": {
  "kernelspec": {
   "display_name": "WM_env",
   "language": "python",
   "name": "python3"
  },
  "language_info": {
   "codemirror_mode": {
    "name": "ipython",
    "version": 3
   },
   "file_extension": ".py",
   "mimetype": "text/x-python",
   "name": "python",
   "nbconvert_exporter": "python",
   "pygments_lexer": "ipython3",
   "version": "3.9.19"
  }
 },
 "nbformat": 4,
 "nbformat_minor": 2
}
