{
 "cells": [
  {
   "cell_type": "code",
   "execution_count": 2,
   "metadata": {},
   "outputs": [
    {
     "name": "stderr",
     "output_type": "stream",
     "text": [
      "/hhd2/hqq/anaconda3/envs/WM_env/lib/python3.9/site-packages/diffusers/models/vq_model.py:20: FutureWarning: `VQEncoderOutput` is deprecated and will be removed in version 0.31. Importing `VQEncoderOutput` from `diffusers.models.vq_model` is deprecated and this will be removed in a future version. Please use `from diffusers.models.autoencoders.vq_model import VQEncoderOutput`, instead.\n",
      "  deprecate(\"VQEncoderOutput\", \"0.31\", deprecation_message)\n",
      "/hhd2/hqq/anaconda3/envs/WM_env/lib/python3.9/site-packages/diffusers/models/vq_model.py:25: FutureWarning: `VQModel` is deprecated and will be removed in version 0.31. Importing `VQModel` from `diffusers.models.vq_model` is deprecated and this will be removed in a future version. Please use `from diffusers.models.autoencoders.vq_model import VQModel`, instead.\n",
      "  deprecate(\"VQModel\", \"0.31\", deprecation_message)\n",
      "Keyword arguments {'generator': <torch._C.Generator object at 0x78d0ff157ab0>} are not expected by StableDiffusionImg2ImgPipeline and will be ignored.\n",
      "Loading pipeline components...: 100%|██████████| 6/6 [00:01<00:00,  5.63it/s]\n"
     ]
    }
   ],
   "source": [
    "import torch \n",
    "import numpy as np \n",
    "from diffusers import AutoPipelineForImage2Image\n",
    "seed = 42\n",
    "torch.manual_seed(seed)\n",
    "torch.cuda.manual_seed_all(seed)\n",
    "np.random.seed(seed)\n",
    "\n",
    "model = \"/hhd2/hqq/stable_signature/stable-diffusion-2-1-base\"\n",
    "# 设置生成器\n",
    "generator = torch.Generator(\"cuda\" if torch.cuda.is_available() else \"cpu\").manual_seed(42)\n",
    "pipeline_image2image = AutoPipelineForImage2Image.from_pretrained(\n",
    "            model, torch_dtype=torch.float16, variant=\"fp16\", use_safetensors=True,generator=generator\n",
    "    ).to(\"cuda\")"
   ]
  },
  {
   "cell_type": "code",
   "execution_count": 21,
   "metadata": {},
   "outputs": [
    {
     "name": "stderr",
     "output_type": "stream",
     "text": [
      "100%|██████████| 15/15 [00:00<00:00, 25.49it/s]\n",
      "100%|██████████| 15/15 [00:00<00:00, 28.30it/s]\n"
     ]
    }
   ],
   "source": [
    "from diffusers.utils import load_image, make_image_grid\n",
    "img = load_image(\"datasets/small_WikiArt3_val/expressionism_lucian-freud-head-of-a-woman-portrait-of-lady-elizabeth-cavendish-1950.jpg\")\n",
    "img_w= load_image(\"watermark/small_WikiArt3_val/30/expressionism_lucian-freud-head-of-a-woman-portrait-of-lady-elizabeth-cavendish-1950.jpg\" )\n",
    "prompt1= 'more clear'\n",
    "imgs_w_generate1= pipeline_image2image(prompt1, image=img, strength=0.3, guidance_scale=3.0,output_type='pt').images \n",
    "imgs_w_generate2= pipeline_image2image(prompt1, image=img_w, strength=0.3, guidance_scale=3.0, output_type='pt').images \n",
    "from torchvision.utils import save_image\n",
    "save_image(imgs_w_generate1, f\"a.png\" )\n",
    "save_image(imgs_w_generate2, f\"b.png\" )"
   ]
  },
  {
   "cell_type": "code",
   "execution_count": null,
   "metadata": {},
   "outputs": [],
   "source": []
  }
 ],
 "metadata": {
  "kernelspec": {
   "display_name": "WM_env",
   "language": "python",
   "name": "python3"
  },
  "language_info": {
   "codemirror_mode": {
    "name": "ipython",
    "version": 3
   },
   "file_extension": ".py",
   "mimetype": "text/x-python",
   "name": "python",
   "nbconvert_exporter": "python",
   "pygments_lexer": "ipython3",
   "version": "undefined.undefined.undefined"
  }
 },
 "nbformat": 4,
 "nbformat_minor": 2
}
