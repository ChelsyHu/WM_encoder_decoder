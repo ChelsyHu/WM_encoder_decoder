{
 "cells": [
  {
   "cell_type": "code",
   "execution_count": 1,
   "metadata": {},
   "outputs": [
    {
     "name": "stderr",
     "output_type": "stream",
     "text": [
      "/hhd2/hqq/anaconda3/envs/WM_env/lib/python3.9/site-packages/torchvision/io/image.py:13: UserWarning: Failed to load image Python extension: /hhd2/hqq/anaconda3/envs/WM_env/lib/python3.9/site-packages/torchvision/image.so: undefined symbol: _ZN3c1017RegisterOperatorsD1Ev\n",
      "  warn(f\"Failed to load image Python extension: {e}\")\n",
      "/hhd2/hqq/anaconda3/envs/WM_env/lib/python3.9/site-packages/scipy/__init__.py:146: UserWarning: A NumPy version >=1.17.3 and <1.25.0 is required for this version of SciPy (detected version 1.26.4\n",
      "  warnings.warn(f\"A NumPy version >={np_minversion} and <{np_maxversion}\"\n"
     ]
    }
   ],
   "source": [
    "from pytorch_fid import fid_score\n",
    "\n",
    "import os\n",
    "from skimage.metrics import structural_similarity as ssim\n",
    "from skimage import io\n",
    "from skimage.color import rgb2gray\n",
    "import numpy as np\n",
    "import cv2\n",
    "import numpy as np\n",
    "import os\n",
    "from math import log10, sqrt\n",
    "\n",
    "import tqdm \n",
    "import pandas as pd \n",
    "from pytorch_fid.fid_score import InceptionV3, calculate_frechet_distance, compute_statistics_of_path,calculate_fid_given_paths\n",
    "from skimage.metrics import peak_signal_noise_ratio, structural_similarity\n",
    "from PIL import Image\n",
    "\n",
    "def get_img_metric(img_dir, img_w_dir, num_imgs=None):\n",
    "    filenames = os.listdir(img_dir)\n",
    "    filenames.sort()\n",
    "    if num_imgs is not None:\n",
    "        filenames = filenames[:num_imgs]\n",
    "    log_stats = []\n",
    "    for ii, filename in enumerate(tqdm.tqdm(filenames)):\n",
    "        pil_img_ori = Image.open(os.path.join(img_dir, filename)).convert('RGB')\n",
    "        pil_img_ori = pil_img_ori.resize((512, 512), Image.BICUBIC)\n",
    "        pil_img = Image.open(os.path.join(img_w_dir, filename))\n",
    "        pil_img = pil_img.resize((512, 512))\n",
    "        \n",
    "        img_ori = np.asarray(pil_img_ori)\n",
    "        img = np.asarray(pil_img)\n",
    "        #print(img_ori.shape, img.shape)\n",
    "        log_stat = {\n",
    "            'filename': filename,\n",
    "            'ssim': structural_similarity(img_ori, img, channel_axis=2),\n",
    "            'psnr': peak_signal_noise_ratio(img_ori, img),\n",
    "            'linf': np.amax(np.abs(img_ori.astype(int)-img.astype(int)))\n",
    "        }\n",
    "        log_stats.append(log_stat)\n",
    "    return log_stats"
   ]
  },
  {
   "cell_type": "code",
   "execution_count": 5,
   "metadata": {},
   "outputs": [
    {
     "name": "stderr",
     "output_type": "stream",
     "text": [
      "100%|██████████| 16/16 [00:01<00:00, 10.12it/s]\n"
     ]
    }
   ],
   "source": [
    "# img_dir= \"ckpts/0/test/original_imgs\"\n",
    "# img_w_dir = \"ckpts/0/test/watermarked_imgs\"\n",
    "#params.num_imgs = 10000\n",
    "\n",
    "img_dir= \"datasets/test_WikiArt3\"\n",
    "img_w_dir = \"datasets/test_WikiArt3_pgd/noise-ckpt/50\"\n",
    "img_metrics = get_img_metric(img_dir, img_w_dir)\n",
    "img_df = pd.DataFrame(img_metrics)"
   ]
  },
  {
   "cell_type": "code",
   "execution_count": 18,
   "metadata": {},
   "outputs": [
    {
     "name": "stderr",
     "output_type": "stream",
     "text": [
      "100%|██████████| 16/16 [00:00<00:00, 55.14it/s]\n",
      "100%|██████████| 192/192 [00:02<00:00, 77.35it/s]\n"
     ]
    },
    {
     "name": "stdout",
     "output_type": "stream",
     "text": [
      "19.297342927002514\n"
     ]
    }
   ],
   "source": [
    "fid= calculate_fid_given_paths([img_w_dir,\"ckpts/2/test/original_imgs\"],batch_size=1,device='cuda',dims=2048)\n",
    "print(fid/16)  ##换成除以文件夹中的图片个数"
   ]
  },
  {
   "cell_type": "code",
   "execution_count": 9,
   "metadata": {},
   "outputs": [
    {
     "name": "stdout",
     "output_type": "stream",
     "text": [
      "SSIM: 0.3002±0.1050 [0.0756, 0.5594]\n",
      "PSNR: 14.9174±2.8831 [7.9690, 18.7515]\n",
      "Linf: 229.0000±23.8982 [169.0000, 255.0000]\n"
     ]
    }
   ],
   "source": [
    "output_dir = 'datasets/test_WikiArt3_pgd/noise-ckpt/50/test'\n",
    "os.makedirs(output_dir,exist_ok=True)\n",
    "img_df.to_csv(os.path.join(output_dir, 'img_metrics2.csv'), index=False)\n",
    "ssims = img_df['ssim'].tolist()\n",
    "psnrs = img_df['psnr'].tolist()\n",
    "linfs = img_df['linf'].tolist()\n",
    "ssim_mean, ssim_std, ssim_max, ssim_min = np.mean(ssims), np.std(ssims), np.max(ssims), np.min(ssims) \n",
    "psnr_mean, psnr_std, psnr_max, psnr_min = np.mean(psnrs), np.std(psnrs), np.max(psnrs), np.min(psnrs)\n",
    "linf_mean, linf_std, linf_max, linf_min = np.mean(linfs), np.std(linfs), np.max(linfs), np.min(linfs)\n",
    "print(f\"SSIM: {ssim_mean:.4f}±{ssim_std:.4f} [{ssim_min:.4f}, {ssim_max:.4f}]\")\n",
    "print(f\"PSNR: {psnr_mean:.4f}±{psnr_std:.4f} [{psnr_min:.4f}, {psnr_max:.4f}]\")\n",
    "print(f\"Linf: {linf_mean:.4f}±{linf_std:.4f} [{linf_min:.4f}, {linf_max:.4f}]\")"
   ]
  },
  {
   "cell_type": "code",
   "execution_count": 19,
   "metadata": {},
   "outputs": [
    {
     "name": "stderr",
     "output_type": "stream",
     "text": [
      "100%|██████████| 16/16 [00:01<00:00, 10.70it/s]\n"
     ]
    },
    {
     "name": "stdout",
     "output_type": "stream",
     "text": [
      "Warning: batch size is bigger than the data size. Setting batch size to data size\n"
     ]
    },
    {
     "name": "stderr",
     "output_type": "stream",
     "text": [
      "100%|██████████| 1/1 [00:00<00:00,  3.59it/s]\n",
      "100%|██████████| 6/6 [00:02<00:00,  2.40it/s]\n"
     ]
    },
    {
     "name": "stdout",
     "output_type": "stream",
     "text": [
      "19.29539641623253\n",
      "SSIM: 0.2993±0.1052 [0.0753, 0.5625]\n",
      "PSNR: 14.9137±2.8823 [7.9709, 18.7471]\n",
      "Linf: 228.3125±24.8765 [167.0000, 255.0000]\n"
     ]
    }
   ],
   "source": [
    "img_dir= \"datasets/test_WikiArt3\"\n",
    "img_w_dir = \"datasets/test_WikiArt3_pgd/noise-ckpt/10\"\n",
    "img_metrics = get_img_metric(img_dir, img_w_dir)\n",
    "img_df = pd.DataFrame(img_metrics)\n",
    "\n",
    "fid= calculate_fid_given_paths([img_w_dir,\"ckpts/2/test/original_imgs\" ],batch_size=32,device='cuda',dims=2048)\n",
    "print(fid/16)  ##换成除以文件夹中的图片个数\n",
    "\n",
    "output_dir = 'datasets/test_WikiArt3_pgd/noise-ckpt/10/test'\n",
    "os.makedirs(output_dir,exist_ok=True)\n",
    "img_df.to_csv(os.path.join(output_dir, 'img_metrics2.csv'), index=False)\n",
    "ssims = img_df['ssim'].tolist()\n",
    "psnrs = img_df['psnr'].tolist()\n",
    "linfs = img_df['linf'].tolist()\n",
    "ssim_mean, ssim_std, ssim_max, ssim_min = np.mean(ssims), np.std(ssims), np.max(ssims), np.min(ssims) \n",
    "psnr_mean, psnr_std, psnr_max, psnr_min = np.mean(psnrs), np.std(psnrs), np.max(psnrs), np.min(psnrs)\n",
    "linf_mean, linf_std, linf_max, linf_min = np.mean(linfs), np.std(linfs), np.max(linfs), np.min(linfs)\n",
    "print(f\"SSIM: {ssim_mean:.4f}±{ssim_std:.4f} [{ssim_min:.4f}, {ssim_max:.4f}]\")\n",
    "print(f\"PSNR: {psnr_mean:.4f}±{psnr_std:.4f} [{psnr_min:.4f}, {psnr_max:.4f}]\")\n",
    "print(f\"Linf: {linf_mean:.4f}±{linf_std:.4f} [{linf_min:.4f}, {linf_max:.4f}]\")"
   ]
  }
 ],
 "metadata": {
  "kernelspec": {
   "display_name": "WM_env",
   "language": "python",
   "name": "python3"
  },
  "language_info": {
   "codemirror_mode": {
    "name": "ipython",
    "version": 3
   },
   "file_extension": ".py",
   "mimetype": "text/x-python",
   "name": "python",
   "nbconvert_exporter": "python",
   "pygments_lexer": "ipython3",
   "version": "3.9.19"
  }
 },
 "nbformat": 4,
 "nbformat_minor": 2
}
