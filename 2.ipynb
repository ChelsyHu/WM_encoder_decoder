{
 "cells": [
  {
   "cell_type": "code",
   "execution_count": 4,
   "metadata": {},
   "outputs": [],
   "source": [
    "from pytorch_fid import fid_score\n",
    "\n",
    "import os\n",
    "from skimage.metrics import structural_similarity as ssim\n",
    "from skimage import io\n",
    "from skimage.color import rgb2gray\n",
    "import numpy as np\n",
    "import cv2\n",
    "import numpy as np\n",
    "import os\n",
    "from math import log10, sqrt"
   ]
  },
  {
   "cell_type": "code",
   "execution_count": 5,
   "metadata": {},
   "outputs": [],
   "source": [
    "import tqdm \n",
    "import pandas as pd \n",
    "from pytorch_fid.fid_score import InceptionV3, calculate_frechet_distance, compute_statistics_of_path\n",
    "from skimage.metrics import peak_signal_noise_ratio, structural_similarity\n",
    "from PIL import Image\n",
    "\n",
    "def get_img_metric(img_dir, img_w_dir, num_imgs=None):\n",
    "    filenames = os.listdir(img_dir)\n",
    "    filenames.sort()\n",
    "    if num_imgs is not None:\n",
    "        filenames = filenames[:num_imgs]\n",
    "    log_stats = []\n",
    "    for ii, filename in enumerate(tqdm.tqdm(filenames)):\n",
    "        pil_img_ori = Image.open(os.path.join(img_dir, filename)).convert('RGB')\n",
    "        pil_img_ori = pil_img_ori.resize((512, 512), Image.BICUBIC)\n",
    "        \n",
    "        pil_img = Image.open(os.path.join(img_w_dir, filename)).convert('RGB')\n",
    "        pil_img = pil_img.resize((512, 512), Image.BICUBIC)\n",
    "        \n",
    "        img_ori = np.asarray(pil_img_ori)\n",
    "        img = np.asarray(pil_img)\n",
    "        #print(img_ori.shape, img.shape)\n",
    "        log_stat = {\n",
    "            'filename': filename,\n",
    "            'ssim': structural_similarity(img_ori, img, channel_axis=2),\n",
    "            'psnr': peak_signal_noise_ratio(img_ori, img),\n",
    "            'linf': np.amax(np.abs(img_ori.astype(int)-img.astype(int)))\n",
    "        }\n",
    "        log_stats.append(log_stat)\n",
    "    return log_stats"
   ]
  },
  {
   "cell_type": "code",
   "execution_count": 6,
   "metadata": {},
   "outputs": [
    {
     "name": "stderr",
     "output_type": "stream",
     "text": [
      "100%|██████████| 4224/4224 [12:30<00:00,  5.63it/s]\n"
     ]
    }
   ],
   "source": [
    "# img_dir= \"ckpts/0/test/original_imgs\"\n",
    "# img_w_dir = \"ckpts/0/test/watermarked_imgs\"\n",
    "#params.num_imgs = 10000\n",
    "\n",
    "img_dir= \"ckpts/1_test/test/generate_imgs\"\n",
    "img_w_dir = \"ckpts/1_test/test/generate_w_imgs\"\n",
    "img_metrics = get_img_metric(img_dir, img_w_dir)\n",
    "img_df = pd.DataFrame(img_metrics)"
   ]
  },
  {
   "cell_type": "code",
   "execution_count": 8,
   "metadata": {},
   "outputs": [
    {
     "name": "stdout",
     "output_type": "stream",
     "text": [
      "SSIM: 0.2224±0.0957 [0.0469, 0.6810]\n",
      "PSNR: 13.1282±1.8043 [8.9456, 22.9019]\n",
      "Linf: 251.2644±6.4657 [198.0000, 255.0000]\n"
     ]
    }
   ],
   "source": [
    "output_dir = 'ckpts/1_test/test'\n",
    "os.makedirs(output_dir,exist_ok=True)\n",
    "img_df.to_csv(os.path.join(output_dir, 'img_metrics2.csv'), index=False)\n",
    "ssims = img_df['ssim'].tolist()\n",
    "psnrs = img_df['psnr'].tolist()\n",
    "linfs = img_df['linf'].tolist()\n",
    "ssim_mean, ssim_std, ssim_max, ssim_min = np.mean(ssims), np.std(ssims), np.max(ssims), np.min(ssims) \n",
    "psnr_mean, psnr_std, psnr_max, psnr_min = np.mean(psnrs), np.std(psnrs), np.max(psnrs), np.min(psnrs)\n",
    "linf_mean, linf_std, linf_max, linf_min = np.mean(linfs), np.std(linfs), np.max(linfs), np.min(linfs)\n",
    "print(f\"SSIM: {ssim_mean:.4f}±{ssim_std:.4f} [{ssim_min:.4f}, {ssim_max:.4f}]\")\n",
    "print(f\"PSNR: {psnr_mean:.4f}±{psnr_std:.4f} [{psnr_min:.4f}, {psnr_max:.4f}]\")\n",
    "print(f\"Linf: {linf_mean:.4f}±{linf_std:.4f} [{linf_min:.4f}, {linf_max:.4f}]\")"
   ]
  },
  {
   "cell_type": "code",
   "execution_count": 4,
   "metadata": {},
   "outputs": [
    {
     "name": "stderr",
     "output_type": "stream",
     "text": [
      "100%|██████████| 132/132 [00:56<00:00,  2.34it/s]\n",
      "100%|██████████| 6/6 [00:02<00:00,  2.23it/s]\n"
     ]
    },
    {
     "name": "stdout",
     "output_type": "stream",
     "text": [
      "226.1023163228521\n"
     ]
    }
   ],
   "source": [
    "from pytorch_fid.fid_score import InceptionV3, calculate_frechet_distance, compute_statistics_of_path,calculate_fid_given_paths\n",
    "\n",
    "img_dir= \"ckpts/1_test/test/generate_imgs\"\n",
    "img_w_dir = \"ckpts/1_test/test/generate_w_imgs\"\n",
    "fid= calculate_fid_given_paths([img_w_dir,\"ckpts/1_test/test/original_imgs\" ],batch_size=32,device='cuda',dims=2048)\n",
    "print(fid)"
   ]
  },
  {
   "cell_type": "code",
   "execution_count": 4,
   "metadata": {},
   "outputs": [
    {
     "name": "stdout",
     "output_type": "stream",
     "text": [
      "SSIM: 0.2224±0.0957 [0.0469, 0.6810]\n",
      "PSNR: 13.1282±1.8043 [8.9456, 22.9019]\n",
      "Linf: 251.2644±6.4657 [198.0000, 255.0000]\n"
     ]
    }
   ],
   "source": [
    "output_dir = 'ckpts/1_test/test'\n",
    "os.makedirs(output_dir,exist_ok=True)\n",
    "img_df.to_csv(os.path.join(output_dir, 'img_metrics2.csv'), index=False)\n",
    "ssims = img_df['ssim'].tolist()\n",
    "psnrs = img_df['psnr'].tolist()\n",
    "linfs = img_df['linf'].tolist()\n",
    "ssim_mean, ssim_std, ssim_max, ssim_min = np.mean(ssims), np.std(ssims), np.max(ssims), np.min(ssims) \n",
    "psnr_mean, psnr_std, psnr_max, psnr_min = np.mean(psnrs), np.std(psnrs), np.max(psnrs), np.min(psnrs)\n",
    "linf_mean, linf_std, linf_max, linf_min = np.mean(linfs), np.std(linfs), np.max(linfs), np.min(linfs)\n",
    "print(f\"SSIM: {ssim_mean:.4f}±{ssim_std:.4f} [{ssim_min:.4f}, {ssim_max:.4f}]\")\n",
    "print(f\"PSNR: {psnr_mean:.4f}±{psnr_std:.4f} [{psnr_min:.4f}, {psnr_max:.4f}]\")\n",
    "print(f\"Linf: {linf_mean:.4f}±{linf_std:.4f} [{linf_min:.4f}, {linf_max:.4f}]\")"
   ]
  },
  {
   "cell_type": "code",
   "execution_count": 5,
   "metadata": {},
   "outputs": [
    {
     "name": "stderr",
     "output_type": "stream",
     "text": [
      "100%|██████████| 192/192 [00:26<00:00,  7.16it/s]"
     ]
    },
    {
     "name": "stdout",
     "output_type": "stream",
     "text": [
      "SSIM: 1.0000±0.0000 [1.0000, 1.0000]\n",
      "PSNR: 75.4929±4.0502 [60.9556, 95.0462]\n",
      "Linf: 1.0000±0.0000 [1.0000, 1.0000]\n"
     ]
    },
    {
     "name": "stderr",
     "output_type": "stream",
     "text": [
      "\n"
     ]
    }
   ],
   "source": [
    "img_dir= \"ckpts/1_test/test/original_imgs\"\n",
    "img_w_dir = \"ckpts/1_test/test/watermarked_imgs\"\n",
    "\n",
    "img_metrics = get_img_metric(img_dir, img_w_dir)\n",
    "img_df = pd.DataFrame(img_metrics)\n",
    "\n",
    "output_dir = 'ckpts/1_test/test'\n",
    "os.makedirs(output_dir,exist_ok=True)\n",
    "img_df.to_csv(os.path.join(output_dir, 'img_metrics.csv'), index=False)\n",
    "ssims = img_df['ssim'].tolist()\n",
    "psnrs = img_df['psnr'].tolist()\n",
    "linfs = img_df['linf'].tolist()\n",
    "ssim_mean, ssim_std, ssim_max, ssim_min = np.mean(ssims), np.std(ssims), np.max(ssims), np.min(ssims) \n",
    "psnr_mean, psnr_std, psnr_max, psnr_min = np.mean(psnrs), np.std(psnrs), np.max(psnrs), np.min(psnrs)\n",
    "linf_mean, linf_std, linf_max, linf_min = np.mean(linfs), np.std(linfs), np.max(linfs), np.min(linfs)\n",
    "print(f\"SSIM: {ssim_mean:.4f}±{ssim_std:.4f} [{ssim_min:.4f}, {ssim_max:.4f}]\")\n",
    "print(f\"PSNR: {psnr_mean:.4f}±{psnr_std:.4f} [{psnr_min:.4f}, {psnr_max:.4f}]\")\n",
    "print(f\"Linf: {linf_mean:.4f}±{linf_std:.4f} [{linf_min:.4f}, {linf_max:.4f}]\")"
   ]
  }
 ],
 "metadata": {
  "kernelspec": {
   "display_name": "WM_env",
   "language": "python",
   "name": "python3"
  },
  "language_info": {
   "codemirror_mode": {
    "name": "ipython",
    "version": 3
   },
   "file_extension": ".py",
   "mimetype": "text/x-python",
   "name": "python",
   "nbconvert_exporter": "python",
   "pygments_lexer": "ipython3",
   "version": "3.9.19"
  }
 },
 "nbformat": 4,
 "nbformat_minor": 2
}
