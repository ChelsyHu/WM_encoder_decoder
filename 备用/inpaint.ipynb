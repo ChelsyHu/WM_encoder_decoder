{
 "cells": [
  {
   "cell_type": "code",
   "execution_count": 1,
   "metadata": {},
   "outputs": [
    {
     "name": "stderr",
     "output_type": "stream",
     "text": [
      "/home/huqiqi/anaconda3/envs/WM_env/lib/python3.9/site-packages/tqdm/auto.py:21: TqdmWarning: IProgress not found. Please update jupyter and ipywidgets. See https://ipywidgets.readthedocs.io/en/stable/user_install.html\n",
      "  from .autonotebook import tqdm as notebook_tqdm\n"
     ]
    },
    {
     "ename": "ModuleNotFoundError",
     "evalue": "No module named 'torch'",
     "output_type": "error",
     "traceback": [
      "\u001b[0;31m---------------------------------------------------------------------------\u001b[0m",
      "\u001b[0;31mModuleNotFoundError\u001b[0m                       Traceback (most recent call last)",
      "Cell \u001b[0;32mIn[1], line 2\u001b[0m\n\u001b[1;32m      1\u001b[0m \u001b[38;5;28;01mfrom\u001b[39;00m \u001b[38;5;21;01mdiffusers\u001b[39;00m \u001b[38;5;28;01mimport\u001b[39;00m StableDiffusionInpaintPipeline,AltDiffusionImg2ImgPipeline\n\u001b[0;32m----> 2\u001b[0m \u001b[38;5;28;01mimport\u001b[39;00m \u001b[38;5;21;01mtorch\u001b[39;00m \n\u001b[1;32m      3\u001b[0m \u001b[38;5;28;01mimport\u001b[39;00m \u001b[38;5;21;01mPIL\u001b[39;00m \n\u001b[1;32m      4\u001b[0m \u001b[38;5;28;01mimport\u001b[39;00m \u001b[38;5;21;01mxformers\u001b[39;00m \n",
      "\u001b[0;31mModuleNotFoundError\u001b[0m: No module named 'torch'"
     ]
    }
   ],
   "source": [
    "from diffusers import StableDiffusionInpaintPipeline,AltDiffusionImg2ImgPipeline\n",
    "import torch \n",
    "import PIL \n",
    "import xformers \n",
    "from diffusers.utils import load_image, make_image_grid\n",
    "import os \n",
    "os.environ['CUDA_VISIBLE_DEVICES']='2'\n",
    "\n",
    "\n",
    "device = torch.device('cuda') if torch.cuda.is_available() else torch.device('cpu')\n",
    "\n",
    "\n",
    "model='/ssd-sata1/hqq/stable_signature/stable-diffusion-2-1-base'\n",
    "pipe = AltDiffusionImg2ImgPipeline.from_pretrained(\n",
    "    model,\n",
    "    revision=\"fp16\",\n",
    "    torch_dtype=torch.float16,\n",
    ").to(device)\n",
    "pipe.enable_attention_slicing()\n",
    "\n",
    "\n",
    "prompt = \"School bag, high resolution, sitting on the beach\"\n",
    "#image and mask_image should be PIL images.\n",
    "#The mask structure is white for inpainting and black for keeping as is\n",
    "image = load_image('/ssd-sata1/hqq/stable_signature/WM encoder_decoder/imgs/04.jpg' )\n",
    "\n",
    "image1= pipe(prompt, image).images[0]\n",
    "\n",
    "image1.save(\"./yellow_cat_on_park_bench.png\")"
   ]
  }
 ],
 "metadata": {
  "kernelspec": {
   "display_name": "WM_env",
   "language": "python",
   "name": "python3"
  },
  "language_info": {
   "codemirror_mode": {
    "name": "ipython",
    "version": 3
   },
   "file_extension": ".py",
   "mimetype": "text/x-python",
   "name": "python",
   "nbconvert_exporter": "python",
   "pygments_lexer": "ipython3",
   "version": "3.9.19"
  }
 },
 "nbformat": 4,
 "nbformat_minor": 2
}
